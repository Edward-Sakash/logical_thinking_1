{
 "cells": [
  {
   "cell_type": "code",
   "execution_count": null,
   "metadata": {},
   "outputs": [],
   "source": []
  },
  {
   "attachments": {},
   "cell_type": "markdown",
   "metadata": {},
   "source": [
    "# Exercise\n",
    "\n",
    "Look at two laws of Boolean algebra (DeMorgan's Laws):\n",
    "\n",
    "$ \\neg (P\\lor Q)\\iff (\\neg P)\\land (\\neg Q) $\n",
    "\n",
    "\n",
    "$ \\neg (P\\land Q)\\iff (\\neg P)\\lor (\\neg Q) $\n",
    "\n",
    "\n",
    "- $ \\neg $ is the negation logic operator (NOT)\n",
    "- $ \\land $ is the conjunction logic operator (AND),\n",
    "- $ \\lor $ is the disjunction logic operator (OR),\n",
    "\n",
    "1. Proof the Demorgan's Laws with Truth Tables\n",
    "2. For each DeMorgan's Law, write a function that checks the validity of these laws."
   ]
  }
 ],
 "metadata": {
  "language_info": {
   "name": "python"
  },
  "orig_nbformat": 4
 },
 "nbformat": 4,
 "nbformat_minor": 2
}
