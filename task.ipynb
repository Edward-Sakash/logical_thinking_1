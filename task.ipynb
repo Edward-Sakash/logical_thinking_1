{
 "cells": [
  {
   "cell_type": "code",
   "execution_count": null,
   "metadata": {},
   "outputs": [],
   "source": []
  },
  {
   "cell_type": "code",
   "execution_count": 1,
   "metadata": {},
   "outputs": [
    {
     "name": "stdout",
     "output_type": "stream",
     "text": [
      "True\n",
      "True\n"
     ]
    }
   ],
   "source": [
    "def demorgans_first_law(P, Q):\n",
    "    # DeMorgan's first law: ¬(P ∨ Q) ↔ (¬P) ∧ (¬Q)\n",
    "    return not (P or Q) == (not P and not Q)\n",
    "\n",
    "def demorgans_second_law(P, Q):\n",
    "    # DeMorgan's second law: ¬(P ∧ Q) ↔ (¬P) ∨ (¬Q)\n",
    "    return not (P and Q) == (not P or not Q)\n",
    "\n",
    "print(demorgans_first_law(True, False))  # Output: True\n",
    "print(demorgans_second_law(False, True))  # Output: True\n"
   ]
  }
 ],
 "metadata": {
  "kernelspec": {
   "display_name": "Python 3",
   "language": "python",
   "name": "python3"
  },
  "language_info": {
   "codemirror_mode": {
    "name": "ipython",
    "version": 3
   },
   "file_extension": ".py",
   "mimetype": "text/x-python",
   "name": "python",
   "nbconvert_exporter": "python",
   "pygments_lexer": "ipython3",
   "version": "3.10.0"
  },
  "orig_nbformat": 4
 },
 "nbformat": 4,
 "nbformat_minor": 2
}
